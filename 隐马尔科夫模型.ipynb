{
 "cells": [
  {
   "cell_type": "markdown",
   "metadata": {},
   "source": [
    "隐马尔科夫模型"
   ]
  },
  {
   "cell_type": "code",
   "execution_count": 1,
   "metadata": {},
   "outputs": [],
   "source": [
    "%matplotlib inline\n",
    "# import matplotlib.pyplot as plt\n",
    "import numpy as np\n",
    "from hmmlearn.hmm import MultinomialHMM, GMMHMM"
   ]
  },
  {
   "cell_type": "code",
   "execution_count": 4,
   "metadata": {},
   "outputs": [],
   "source": [
    "''' 设计一个 HMM 模型'''\n",
    "# 构建一个参数已知的HMM模型\n",
    "model_hmm1 = dict()"
   ]
  },
  {
   "cell_type": "code",
   "execution_count": 5,
   "metadata": {},
   "outputs": [],
   "source": [
    "# 状态的初始分布\n",
    "model_hmm1[\"pi\"] =np.array([1.0/3.0,1.0/3.0,1.0/3.0])"
   ]
  },
  {
   "cell_type": "code",
   "execution_count": 6,
   "metadata": {},
   "outputs": [],
   "source": [
    "# 各个状态之间的转移关系\n",
    "# 行表示当前状态 列表示下一状态\n",
    "model_hmm1[\"A\"] = np.array([   \n",
    "                            [0.4, 0.3, 0.3],\n",
    "                            [0.3, 0.4, 0.3],\n",
    "                            [0.3, 0.3, 0.4], \n",
    "                           ])"
   ]
  },
  {
   "cell_type": "code",
   "execution_count": 7,
   "metadata": {},
   "outputs": [],
   "source": [
    "# 观测样本与各个状态之间的概率映射关系矩阵                   \n",
    "M_O2S = np.zeros([3,8])\n",
    "M_O2S[0,:6]=1/6.0\n",
    "M_O2S[1,:4]=1/4.0\n",
    "M_O2S[2,:8]=1/8.0\n",
    "model_hmm1[\"M_O2S\"] = M_O2S"
   ]
  },
  {
   "cell_type": "code",
   "execution_count": 8,
   "metadata": {},
   "outputs": [],
   "source": [
    "# 计算观测样本O属于状态S的概率的函数（发射概率）\n",
    "def prob_O2S(model,o):\n",
    "    M_O2S = model[\"M_O2S\"]\n",
    "    return M_O2S[:,int(o)]"
   ]
  },
  {
   "cell_type": "code",
   "execution_count": 9,
   "metadata": {},
   "outputs": [],
   "source": [
    "model_hmm1[\"B\"] = prob_O2S"
   ]
  },
  {
   "cell_type": "code",
   "execution_count": 10,
   "metadata": {},
   "outputs": [],
   "source": [
    "# 根据一组概率分布生成一个样本\n",
    "def gen_one_sample_from_Prob_list(Prob_list):\n",
    "    N_segment = np.shape(Prob_list)[0]\n",
    "    \n",
    "    # 将[0,1]的区间分为 N_segment 段\n",
    "    prob_segment = np.zeros(N_segment)\n",
    "    # 例如 Prob_list = [  0.3,0.3,0.4]\n",
    "    #      prob_segment_segment = [0.3,0,6,1]\n",
    "    for i in range(N_segment):\n",
    "        prob_segment[i] = prob_segment[i-1]+ Prob_list[i]\n",
    "    \n",
    "    S =0\n",
    "    # 生成0,1之间的随机数\n",
    "    data = np.random.rand()\n",
    "    # 查看生成的数值位于哪个段中\n",
    "    for i in range(N_segment):\n",
    "        if data <= prob_segment[i]:\n",
    "            S = i\n",
    "            break\n",
    "    return S"
   ]
  },
  {
   "cell_type": "code",
   "execution_count": 11,
   "metadata": {},
   "outputs": [],
   "source": [
    "def gen_samples_from_HMM(model,N):\n",
    "    M_O2S = model[\"M_O2S\"]\n",
    "   \n",
    "    datas = np.zeros(N)\n",
    "    stats = np.zeros(N)\n",
    "    \n",
    "    # 得到初始状态，并根据初始状态生成一个样本\n",
    "    init_S = gen_one_sample_from_Prob_list(model[\"pi\"])\n",
    "    stats[0] = init_S\n",
    "    \n",
    "    # 根据初始状态，生成一个数据\n",
    "    datas[0] = gen_one_sample_from_Prob_list(M_O2S[int(stats[0])]) \n",
    "    \n",
    "    #生成其他样本 \n",
    "    for i in range(1,N):\n",
    "        # 根据前一状态，生成当前状态\n",
    "        stats[i] = gen_one_sample_from_Prob_list(model[\"A\"][int(stats[i-1])])\n",
    "        # 根据当前状态生成一个数据\n",
    "        datas[i] = gen_one_sample_from_Prob_list(M_O2S[int(stats[i])])\n",
    "    return datas,stats"
   ]
  },
  {
   "cell_type": "code",
   "execution_count": 12,
   "metadata": {},
   "outputs": [
    {
     "name": "stdout",
     "output_type": "stream",
     "text": [
      "[2. 0. 6. 0. 0. 3. 2. 1. 1. 0. 2. 0. 3. 4. 7. 5. 0. 5. 2. 4. 4. 6. 2. 1.\n",
      " 5. 3. 2. 3. 0. 3. 7. 7. 0. 2. 1. 0. 2. 2. 0. 2. 0. 0. 3. 5. 2. 7. 1. 5.\n",
      " 4. 2. 5. 2. 0. 0. 1. 2. 1. 1. 2. 3. 5. 6. 0. 2. 1. 4. 0. 1. 0. 3. 2. 3.\n",
      " 4. 2. 1. 0. 2. 3. 1. 7. 5. 2. 3. 3. 2. 2. 0. 3. 3. 7. 5. 4. 1. 7. 5. 0.\n",
      " 4. 3. 2. 2. 3. 0. 3. 1. 0. 0. 3. 3. 2. 3. 1. 7. 4. 1. 2. 3. 3. 4. 1. 1.\n",
      " 1. 0. 3. 4. 3. 1. 1. 0. 3. 4. 0. 4. 1. 6. 4. 6. 7. 4. 2. 2. 5. 3. 2. 2.\n",
      " 2. 2. 1. 1. 5. 2. 3. 1. 5. 0. 0. 4. 2. 0. 4. 0. 1. 1. 0. 1. 1. 0. 3. 2.\n",
      " 3. 2. 0. 4. 0. 3. 3. 1. 1. 1. 0. 2. 2. 1. 3. 3. 1. 3. 3. 2. 4. 3. 0. 1.\n",
      " 7. 4. 0. 0. 1. 3. 1. 3.]\n",
      "[1. 1. 2. 0. 0. 1. 1. 1. 1. 0. 2. 1. 1. 0. 2. 0. 2. 0. 0. 0. 2. 2. 0. 1.\n",
      " 2. 2. 1. 1. 2. 2. 2. 2. 0. 1. 1. 1. 1. 0. 1. 1. 2. 2. 1. 0. 0. 2. 2. 2.\n",
      " 0. 1. 2. 2. 0. 1. 1. 0. 0. 1. 0. 2. 0. 2. 0. 2. 1. 0. 1. 0. 0. 2. 1. 2.\n",
      " 0. 2. 0. 2. 0. 1. 0. 2. 2. 0. 2. 1. 1. 0. 0. 1. 1. 2. 2. 2. 1. 2. 0. 1.\n",
      " 0. 1. 2. 0. 1. 1. 2. 2. 1. 1. 1. 0. 1. 2. 1. 2. 0. 0. 1. 1. 1. 2. 1. 1.\n",
      " 1. 1. 1. 2. 1. 1. 0. 1. 2. 0. 2. 2. 2. 2. 2. 2. 2. 0. 0. 2. 0. 0. 1. 2.\n",
      " 2. 1. 0. 1. 0. 1. 2. 0. 0. 2. 1. 0. 1. 0. 0. 1. 0. 1. 0. 1. 2. 0. 2. 1.\n",
      " 1. 2. 1. 2. 0. 1. 0. 2. 2. 0. 1. 1. 0. 1. 1. 0. 0. 1. 1. 1. 2. 1. 1. 1.\n",
      " 2. 0. 0. 2. 0. 1. 1. 1.]\n"
     ]
    }
   ],
   "source": [
    "''' 任务1 生成一条满足参数已知HMM分布的数据 '''\n",
    "datas,states = gen_samples_from_HMM(model_hmm1,200)\n",
    "print(datas)\n",
    "print(states)"
   ]
  },
  {
   "cell_type": "code",
   "execution_count": 13,
   "metadata": {},
   "outputs": [],
   "source": [
    "# 前向算法  alpha = [N_sample,N_stats]\n",
    "# 表示已知前t个样本的的情况下，第t个样本\n",
    "# 属于状态i的概率\n",
    "def calc_alpha(model,observations):\n",
    "    o = observations\n",
    "    N_samples = np.shape(o)[0]\n",
    "    N_stats = np.shape(model[\"pi\"])[0]\n",
    "    \n",
    "    # alpha 初始化\n",
    "    alpha = np.zeros([N_samples,N_stats])\n",
    "    \n",
    "    # 计算第0个样本属于第i个状态的概率\n",
    "    alpha[0] = model[\"pi\"]*model[\"B\"](model,o[0])\n",
    "   \n",
    "    # 计算其他时刻的样本属第i个状态的概率\n",
    "    for t in range(1,N_samples):\n",
    "        s_current = np.dot(alpha[t-1],model[\"A\"])\n",
    "        alpha[t] = s_current*model[\"B\"](model,o[t])\n",
    "   \n",
    "    return alpha"
   ]
  },
  {
   "cell_type": "code",
   "execution_count": 14,
   "metadata": {},
   "outputs": [],
   "source": [
    "# 后向算法\n",
    "def calc_beta(model,observations):\n",
    "    o = observations\n",
    "    N_samples = np.shape(o)[0]\n",
    "    N_stats = np.shape(model[\"pi\"])[0]\n",
    "    \n",
    "    beta = np.zeros([N_samples,N_stats])\n",
    "    \n",
    "    # 反向初始值\n",
    "    beta[-1] = 1\n",
    "    \n",
    "    for t in range(N_samples-2,-1,-1):\n",
    "        # 由t+1时刻的beta以及t+1时刻的观测值计算\n",
    "        # t+1时刻的状态值\n",
    "        s_next = beta[t+1]*model[\"B\"](model,o[t+1])\n",
    "        beta[t] = np.dot(s_next,model[\"A\"].T)\n",
    "    return beta    "
   ]
  },
  {
   "cell_type": "code",
   "execution_count": 16,
   "metadata": {},
   "outputs": [],
   "source": [
    "def forward(model,observations):\n",
    "    o = observations\n",
    "    \n",
    "    # 计算前向概率\n",
    "    alpha =  calc_alpha(model,o)\n",
    "    prob_seq_f = np.sum(alpha[-1])\n",
    "\n",
    "    return np.log(prob_seq_f)"
   ]
  },
  {
   "cell_type": "code",
   "execution_count": 17,
   "metadata": {},
   "outputs": [],
   "source": [
    "def backward(model,observations):\n",
    "    o = observations\n",
    "    \n",
    "    # 计算后向概率\n",
    "    beta =  calc_beta(model,o)\n",
    "    s_next = beta[0]*model[\"B\"](model,o[0]) \n",
    "    prob_seq_b = np.dot(s_next,model[\"pi\"])\n",
    "    \n",
    "    return np.log(prob_seq_b)"
   ]
  },
  {
   "cell_type": "code",
   "execution_count": 18,
   "metadata": {},
   "outputs": [
    {
     "name": "stdout",
     "output_type": "stream",
     "text": [
      "alpha\n",
      "[[0.05555556 0.08333333 0.04166667]\n",
      " [0.0099537  0.015625   0.00729167]\n",
      " [0.00180941 0.         0.00132378]]\n",
      "beta\n",
      "[[0.01725694 0.01770833 0.01677083]\n",
      " [0.10416667 0.0875     0.1       ]\n",
      " [1.         1.         1.        ]]\n",
      "---------------\n",
      "forward -5.765700974259562\n",
      "backward -5.765700974259562\n"
     ]
    }
   ],
   "source": [
    "''' 任务2 利用前向 后向算法 计算一个生成一个序列的概率'''\n",
    "datas = np.array([1,3,4])\n",
    "print(\"alpha\")\n",
    "print(calc_alpha(model_hmm1,datas))    \n",
    "print(\"beta\")\n",
    "print(calc_beta(model_hmm1,datas)) \n",
    "print(\"---------------\")\n",
    "print(\"forward\",forward(model_hmm1,datas))\n",
    "print(\"backward\",backward(model_hmm1,datas))"
   ]
  },
  {
   "cell_type": "code",
   "execution_count": 19,
   "metadata": {},
   "outputs": [],
   "source": [
    "# 构建另一个参数已知的HMM模型\n",
    "model_hmm2 = dict()\n",
    "# 状态的初始分布\n",
    "model_hmm2[\"pi\"] =np.array([1.0/3.0,1.0/3.0,1.0/3.0])\n",
    "# 各个状态之间的转移关系\n",
    "# 行表示当前状态 列表示下一状态\n",
    "model_hmm2[\"A\"] = np.array([   \n",
    "                        [0.8, 0.1, 0.1],\n",
    "                        [0.1, 0.8, 0.1],\n",
    "                        [0.1, 0.1, 0.8], \n",
    "                       ])\n",
    "# 观测样本与各个状态之间的概率映射关系矩阵                   \n",
    "M_O2S_2 = np.zeros([3,8])\n",
    "M_O2S_2[0,:6]=[0.8,0.04,0.04,0.04,0.04,0.04]\n",
    "M_O2S_2[1,:4]=1/4.0\n",
    "M_O2S_2[2,:8]=1/8.0\n",
    "model_hmm2[\"M_O2S\"] = M_O2S_2\n",
    "model_hmm2[\"B\"] = prob_O2S"
   ]
  },
  {
   "cell_type": "code",
   "execution_count": 20,
   "metadata": {},
   "outputs": [
    {
     "name": "stdout",
     "output_type": "stream",
     "text": [
      "p_d1m1 -196.31645150637812\n",
      "p_d1m2 -203.19453911807554\n",
      "----------------------------------\n",
      "p_d2m1 -178.28500717670119\n",
      "p_d2m2 -146.5341992098277\n"
     ]
    }
   ],
   "source": [
    "# 分别用2个HMM生成2个数据序列\n",
    "datas_hmm1,_ = gen_samples_from_HMM(model_hmm1,100)\n",
    "datas_hmm2,_ = gen_samples_from_HMM(model_hmm2,100)    \n",
    "\n",
    "p_d1m1 = forward(model_hmm1,datas_hmm1)\n",
    "p_d1m2 = forward(model_hmm2,datas_hmm1)\n",
    "    \n",
    "p_d2m1 = forward(model_hmm1,datas_hmm2)\n",
    "p_d2m2 = forward(model_hmm2,datas_hmm2)\n",
    "    \n",
    "print(\"p_d1m1\",p_d1m1)\n",
    "print(\"p_d1m2\",p_d1m2)\n",
    "print(\"----------------------------------\")\n",
    "print(\"p_d2m1\",p_d2m1)\n",
    "print(\"p_d2m2\",p_d2m2)"
   ]
  }
 ],
 "metadata": {
  "kernelspec": {
   "display_name": "Python [conda env:.conda-tensorflow]",
   "language": "python",
   "name": "conda-env-.conda-tensorflow-py"
  },
  "language_info": {
   "codemirror_mode": {
    "name": "ipython",
    "version": 3
   },
   "file_extension": ".py",
   "mimetype": "text/x-python",
   "name": "python",
   "nbconvert_exporter": "python",
   "pygments_lexer": "ipython3",
   "version": "3.6.13"
  }
 },
 "nbformat": 4,
 "nbformat_minor": 2
}
